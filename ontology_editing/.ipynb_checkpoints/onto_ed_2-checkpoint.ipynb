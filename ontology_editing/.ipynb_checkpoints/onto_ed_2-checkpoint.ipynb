{
 "cells": [
  {
   "cell_type": "code",
   "execution_count": 1,
   "id": "fc8250a5",
   "metadata": {},
   "outputs": [
    {
     "name": "stderr",
     "output_type": "stream",
     "text": [
      "* Owlready2 * Warning: optimized Cython parser module 'owlready2_optimized' is not available, defaulting to slower Python implementation\n"
     ]
    }
   ],
   "source": [
    "from owlready2 import *\n",
    "import pandas as pd"
   ]
  },
  {
   "cell_type": "code",
   "execution_count": 3,
   "id": "ea18a22a",
   "metadata": {},
   "outputs": [],
   "source": [
    "onto = get_ontology(\"file:///home/rounak/Documents/onto/environment/ontology_editing/dance_image_ontology.owl\").load()"
   ]
  },
  {
   "cell_type": "code",
   "execution_count": 2,
   "id": "e99a7046",
   "metadata": {},
   "outputs": [
    {
     "name": "stdout",
     "output_type": "stream",
     "text": [
      "     Dancer Name  Age Gender\n",
      "0   Dancer3   d3   20      F\n",
      "1   Dancer4   d4   21      F\n",
      "2   Dancer5   d5   22      F\n",
      "3   Dancer6   d6   23      F\n",
      "4   Dancer7   d7   24      F\n",
      "5   Dancer8   d8   25      F\n",
      "6   Dancer9   d9   26      F\n",
      "7  Dancer10  d10   27      F\n",
      "8  Dancer11  d11   28      F\n",
      "9  Dancer12  d12   29      F\n"
     ]
    }
   ],
   "source": [
    "df=pd.read_csv('dancer_list.tsv',sep='\\t')\n",
    "print(df)"
   ]
  },
  {
   "cell_type": "code",
   "execution_count": 7,
   "id": "1474166b",
   "metadata": {},
   "outputs": [],
   "source": [
    "for i in df.index:\n",
    "    d=onto.Dancer(df['Dancer'][i],namespace=onto,hasDancerAge=int(df['Age'][i]),hasDancerGender=df['Gender'][i])\n",
    "    d.hasDancerName.append(df['Name'][i])"
   ]
  },
  {
   "cell_type": "code",
   "execution_count": 12,
   "id": "0385d95e",
   "metadata": {},
   "outputs": [
    {
     "name": "stdout",
     "output_type": "stream",
     "text": [
      "Dancer1 24\n",
      "Dancer3 20\n",
      "Dancer4 21\n",
      "Dancer5 22\n",
      "Dancer6 23\n",
      "Dancer7 24\n",
      "Dancer8 25\n",
      "Dancer9 26\n",
      "Dancer10 27\n",
      "Dancer11 28\n",
      "Dancer12 29\n"
     ]
    }
   ],
   "source": [
    "for i in onto.Dancer.instances():\n",
    "    print(i.name+' '+str(i.hasDancerAge))"
   ]
  },
  {
   "cell_type": "code",
   "execution_count": 14,
   "id": "f02fc100",
   "metadata": {},
   "outputs": [],
   "source": [
    "onto.save(file = \"/home/rounak/Documents/onto/environment/ontology_editing/dance_dummy.owl\", format = \"rdfxml\")"
   ]
  },
  {
   "cell_type": "code",
   "execution_count": null,
   "id": "e236fefb",
   "metadata": {},
   "outputs": [],
   "source": []
  }
 ],
 "metadata": {
  "kernelspec": {
   "display_name": "Python 3 (ipykernel)",
   "language": "python",
   "name": "python3"
  },
  "language_info": {
   "codemirror_mode": {
    "name": "ipython",
    "version": 3
   },
   "file_extension": ".py",
   "mimetype": "text/x-python",
   "name": "python",
   "nbconvert_exporter": "python",
   "pygments_lexer": "ipython3",
   "version": "3.8.10"
  }
 },
 "nbformat": 4,
 "nbformat_minor": 5
}
