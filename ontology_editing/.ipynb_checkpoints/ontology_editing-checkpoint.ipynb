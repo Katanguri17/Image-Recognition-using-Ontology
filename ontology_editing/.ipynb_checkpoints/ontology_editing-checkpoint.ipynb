{
 "cells": [
  {
   "cell_type": "code",
   "execution_count": 1,
   "id": "fc8250a5",
   "metadata": {},
   "outputs": [
    {
     "name": "stderr",
     "output_type": "stream",
     "text": [
      "* Owlready2 * Warning: optimized Cython parser module 'owlready2_optimized' is not available, defaulting to slower Python implementation\n"
     ]
    }
   ],
   "source": [
    "from owlready2 import *\n",
    "import pandas as pd"
   ]
  },
  {
   "cell_type": "code",
   "execution_count": 2,
   "id": "ea18a22a",
   "metadata": {},
   "outputs": [],
   "source": [
    "onto = get_ontology(\"file:///home/rounak/Documents/onto/environment/Ontology-editing-and-Query-processing/ontology_editing/dance_image_ontology.owl\").load()"
   ]
  },
  {
   "cell_type": "code",
   "execution_count": 3,
   "id": "e99a7046",
   "metadata": {},
   "outputs": [
    {
     "name": "stdout",
     "output_type": "stream",
     "text": [
      "    Dancer Name  Age Gender\n",
      "0  Dancer0   d0   20      F\n",
      "1  Dancer1   d1   21      M\n",
      "2  Dancer2   d2   22      F\n",
      "3  Dancer3   d3   23      M\n",
      "4  Dancer4   d4   24      F\n",
      "5  Dancer5   d5   25      M\n",
      "6  Dancer6   d6   26      F\n",
      "7  Dancer7   d7   27      M\n",
      "8  Dancer8   d8   28      F\n",
      "9  Dancer9   d9   29      M\n"
     ]
    }
   ],
   "source": [
    "df=pd.read_csv('dancer_list.tsv',sep='\\t')\n",
    "print(df)"
   ]
  },
  {
   "cell_type": "code",
   "execution_count": 4,
   "id": "1474166b",
   "metadata": {},
   "outputs": [],
   "source": [
    "for i in df.index:\n",
    "    d=onto.Dancer(df['Dancer'][i],namespace=onto,hasDancerAge=int(df['Age'][i]),hasDancerGender=df['Gender'][i])\n",
    "    d.hasDancerName.append(df['Name'][i])"
   ]
  },
  {
   "cell_type": "code",
   "execution_count": 5,
   "id": "0385d95e",
   "metadata": {},
   "outputs": [
    {
     "name": "stdout",
     "output_type": "stream",
     "text": [
      "Dancer0 20\n",
      "Dancer1 21\n",
      "Dancer2 22\n",
      "Dancer3 23\n",
      "Dancer4 24\n",
      "Dancer5 25\n",
      "Dancer6 26\n",
      "Dancer7 27\n",
      "Dancer8 28\n",
      "Dancer9 29\n"
     ]
    }
   ],
   "source": [
    "for i in onto.Dancer.instances():\n",
    "    print(i.name+' '+str(i.hasDancerAge))"
   ]
  },
  {
   "cell_type": "code",
   "execution_count": 6,
   "id": "effb2a9b",
   "metadata": {},
   "outputs": [
    {
     "name": "stdout",
     "output_type": "stream",
     "text": [
      "dance_image_ontology.Costume0\n",
      "dance_image_ontology.Costume1\n",
      "dance_image_ontology.Costume2\n",
      "dance_image_ontology.Costume3\n",
      "dance_image_ontology.Costume4\n"
     ]
    }
   ],
   "source": [
    "df=pd.read_csv('costume_list.tsv',sep='\\t')\n",
    "\n",
    "for i in df.index:\n",
    "    costume=onto.Costume(df['Costume'][i])\n",
    "    \n",
    "for i in onto.Costume.instances():\n",
    "    print(i)"
   ]
  },
  {
   "cell_type": "code",
   "execution_count": 7,
   "id": "5c52a606",
   "metadata": {},
   "outputs": [],
   "source": [
    "hastamudra={\n",
    "\t'asamyukta': [\n",
    "\t\t'pataka',\n",
    "\t\t'tripataka',\n",
    "\t\t'ardhapatake',\n",
    "\t\t'kartari',\n",
    "\t\t'mayura',\n",
    "\t\t'ardhachandra',\n",
    "\t\t'arala',\n",
    "\t\t'shukatundaka',\n",
    "\t\t'mushti',\n",
    "\t\t'shikhara',\n",
    "\t\t'kapittha',\n",
    "\t\t'katakamukha',\n",
    "\t\t'suchi',\n",
    "\t\t'chandrakala',\n",
    "\t\t'padmakosha',\n",
    "\t\t'sharpashirastatha',\n",
    "\t\t'mrigashirsha',\n",
    "\t\t'singhamukha',\n",
    "\t\t'kangula',\n",
    "\t\t'alapadma',\n",
    "\t\t'chatura',\n",
    "\t\t'bhramara',\n",
    "\t\t'hamsohasso',\n",
    "\t\t'hamsapakshaka',\n",
    "\t\t'samdamsa',\n",
    "\t\t'mukula',\n",
    "\t\t'tamrachura',\n",
    "\t\t'trishula',\n",
    "\t],\n",
    "\t'samyukta':[\n",
    "\t\t'anjali',\n",
    "\t\t'kapota',\n",
    "\t\t'karkata',\n",
    "\t\t'swastika',\n",
    "\t\t'dolahasta',\n",
    "\t\t'pushpaputa',\n",
    "\t\t'utsang',\n",
    "\t\t'shivalinga',\n",
    "\t\t'katakavardhana',\n",
    "\t\t'kartariswastika',\n",
    "\t\t'sakata',\n",
    "\t\t'shankha',\n",
    "\t\t'chakra',\n",
    "\t\t'samputa',\n",
    "\t\t'pasha',\n",
    "\t\t'kilakau',\n",
    "\t\t'matsya',\n",
    "\t\t'kurma',\n",
    "\t\t'baraha',\n",
    "\t\t'garura',\n",
    "\t\t'nagabandha',\n",
    "\t\t'khatawa',\n",
    "\t\t'verunda',\n",
    "\t],\n",
    "}"
   ]
  },
  {
   "cell_type": "code",
   "execution_count": 8,
   "id": "e236fefb",
   "metadata": {},
   "outputs": [
    {
     "name": "stdout",
     "output_type": "stream",
     "text": [
      "dance_image_ontology.pataka_mudra\n",
      "dance_image_ontology.tripataka_mudra\n",
      "dance_image_ontology.ardhapatake_mudra\n",
      "dance_image_ontology.kartari_mudra\n",
      "dance_image_ontology.mayura_mudra\n",
      "dance_image_ontology.ardhachandra_mudra\n",
      "dance_image_ontology.arala_mudra\n",
      "dance_image_ontology.shukatundaka_mudra\n",
      "dance_image_ontology.mushti_mudra\n",
      "dance_image_ontology.shikhara_mudra\n",
      "dance_image_ontology.kapittha_mudra\n",
      "dance_image_ontology.katakamukha_mudra\n",
      "dance_image_ontology.suchi_mudra\n",
      "dance_image_ontology.chandrakala_mudra\n",
      "dance_image_ontology.padmakosha_mudra\n",
      "dance_image_ontology.sharpashirastatha_mudra\n",
      "dance_image_ontology.mrigashirsha_mudra\n",
      "dance_image_ontology.singhamukha_mudra\n",
      "dance_image_ontology.kangula_mudra\n",
      "dance_image_ontology.alapadma_mudra\n",
      "dance_image_ontology.chatura_mudra\n",
      "dance_image_ontology.bhramara_mudra\n",
      "dance_image_ontology.hamsohasso_mudra\n",
      "dance_image_ontology.hamsapakshaka_mudra\n",
      "dance_image_ontology.samdamsa_mudra\n",
      "dance_image_ontology.mukula_mudra\n",
      "dance_image_ontology.tamrachura_mudra\n",
      "dance_image_ontology.trishula_mudra\n"
     ]
    }
   ],
   "source": [
    "for item in hastamudra:\n",
    "    for mudra in hastamudra[item]:\n",
    "        if item=='asamyukta':\n",
    "            new_mudra=onto.AsamyuktaMudra(mudra+'_mudra')\n",
    "        elif item=='samyukta':\n",
    "            new_mudra=onto.SamyuktaMudra(mudra+'_mudra')\n",
    "            \n",
    "for i in onto.AsamyuktaMudra.instances():\n",
    "    print(i)"
   ]
  },
  {
   "cell_type": "code",
   "execution_count": 9,
   "id": "f02fc100",
   "metadata": {},
   "outputs": [],
   "source": [
    "onto.save(file = \"/home/rounak/Documents/onto/environment/Ontology-editing-and-Query-processing/ontology_editing/dance_dummy.owl\", format = \"rdfxml\")"
   ]
  },
  {
   "cell_type": "code",
   "execution_count": 2,
   "id": "9cdbf0f1",
   "metadata": {},
   "outputs": [],
   "source": [
    "onto = get_ontology(\"file:///home/rounak/Documents/onto/environment/Ontology-editing-and-Query-processing/ontology_editing/dance_dummy.owl\").load()"
   ]
  },
  {
   "cell_type": "code",
   "execution_count": 3,
   "id": "e7924fce",
   "metadata": {},
   "outputs": [
    {
     "name": "stdout",
     "output_type": "stream",
     "text": [
      "File path: /home/rounak/Documents/onto/environment/Ontology-editing-and-Query-processing/data/Hand1-20220127T142046Z-001/Hand1/H0.jpg\n"
     ]
    }
   ],
   "source": [
    "import os\n",
    "file_path=input('File path: ')\n",
    "l=file_path.split('/')\n",
    "file_fullname=l[len(l)-1]\n",
    "# print(file_fullname)\n",
    "l=file_fullname.split('.')\n",
    "file_name=l[0]\n",
    "file_exten=l[1]\n",
    "file_size=os.path.getsize(file_path)\n",
    "\n",
    "img=onto.Image('Image0',namespace=onto,hasFilePath=file_path,hasFileName=file_name,hasFileExtension=file_exten,hasFileSize=file_size)"
   ]
  },
  {
   "cell_type": "code",
   "execution_count": 5,
   "id": "38d6472f",
   "metadata": {},
   "outputs": [
    {
     "name": "stdout",
     "output_type": "stream",
     "text": [
      "H0 jpg 3176315 /home/rounak/Documents/onto/environment/Ontology-editing-and-Query-processing/data/Hand1-20220127T142046Z-001/Hand1/H0.jpg\n"
     ]
    }
   ],
   "source": [
    "for i in onto.Image.instances():\n",
    "    print(i.hasFileName+' '+i.hasFileExtension+' '+str(i.hasFileSize)+' '+i.hasFilePath)"
   ]
  },
  {
   "cell_type": "code",
   "execution_count": 12,
   "id": "b51ede75",
   "metadata": {},
   "outputs": [
    {
     "ename": "IndexError",
     "evalue": "list index out of range",
     "output_type": "error",
     "traceback": [
      "\u001b[0;31m---------------------------------------------------------------------------\u001b[0m",
      "\u001b[0;31mIndexError\u001b[0m                                Traceback (most recent call last)",
      "Input \u001b[0;32mIn [12]\u001b[0m, in \u001b[0;36m<cell line: 1>\u001b[0;34m()\u001b[0m\n\u001b[0;32m----> 1\u001b[0m \u001b[43monto\u001b[49m\u001b[38;5;241;43m.\u001b[39;49m\u001b[43msave\u001b[49m\u001b[43m(\u001b[49m\u001b[43m)\u001b[49m\n",
      "File \u001b[0;32m~/Documents/onto/environment/lib/python3.8/site-packages/owlready2/namespace.py:1142\u001b[0m, in \u001b[0;36mOntology.save\u001b[0;34m(self, file, format, **kargs)\u001b[0m\n\u001b[1;32m   1140\u001b[0m \u001b[38;5;28;01mdef\u001b[39;00m \u001b[38;5;21msave\u001b[39m(\u001b[38;5;28mself\u001b[39m, file \u001b[38;5;241m=\u001b[39m \u001b[38;5;28;01mNone\u001b[39;00m, \u001b[38;5;28mformat\u001b[39m \u001b[38;5;241m=\u001b[39m \u001b[38;5;124m\"\u001b[39m\u001b[38;5;124mrdfxml\u001b[39m\u001b[38;5;124m\"\u001b[39m, \u001b[38;5;241m*\u001b[39m\u001b[38;5;241m*\u001b[39mkargs):\n\u001b[1;32m   1141\u001b[0m   \u001b[38;5;28;01mif\u001b[39;00m   file \u001b[38;5;129;01mis\u001b[39;00m \u001b[38;5;28;01mNone\u001b[39;00m:\n\u001b[0;32m-> 1142\u001b[0m     file \u001b[38;5;241m=\u001b[39m \u001b[43m_open_onto_file\u001b[49m\u001b[43m(\u001b[49m\u001b[38;5;28;43mself\u001b[39;49m\u001b[38;5;241;43m.\u001b[39;49m\u001b[43m_base_iri\u001b[49m\u001b[43m,\u001b[49m\u001b[43m \u001b[49m\u001b[38;5;28;43mself\u001b[39;49m\u001b[38;5;241;43m.\u001b[39;49m\u001b[43mname\u001b[49m\u001b[43m,\u001b[49m\u001b[43m \u001b[49m\u001b[38;5;124;43m\"\u001b[39;49m\u001b[38;5;124;43mwb\u001b[39;49m\u001b[38;5;124;43m\"\u001b[39;49m\u001b[43m)\u001b[49m\n\u001b[1;32m   1143\u001b[0m     \u001b[38;5;28;01mif\u001b[39;00m _LOG_LEVEL: \u001b[38;5;28mprint\u001b[39m(\u001b[38;5;124m\"\u001b[39m\u001b[38;5;124m* Owlready2 * Saving ontology \u001b[39m\u001b[38;5;132;01m%s\u001b[39;00m\u001b[38;5;124m to \u001b[39m\u001b[38;5;132;01m%s\u001b[39;00m\u001b[38;5;124m...\u001b[39m\u001b[38;5;124m\"\u001b[39m \u001b[38;5;241m%\u001b[39m (\u001b[38;5;28mself\u001b[39m\u001b[38;5;241m.\u001b[39mname, \u001b[38;5;28mgetattr\u001b[39m(file, \u001b[38;5;124m\"\u001b[39m\u001b[38;5;124mname\u001b[39m\u001b[38;5;124m\"\u001b[39m, \u001b[38;5;124m\"\u001b[39m\u001b[38;5;124m???\u001b[39m\u001b[38;5;124m\"\u001b[39m)), file \u001b[38;5;241m=\u001b[39m sys\u001b[38;5;241m.\u001b[39mstderr)\n\u001b[1;32m   1144\u001b[0m     \u001b[38;5;28mself\u001b[39m\u001b[38;5;241m.\u001b[39mgraph\u001b[38;5;241m.\u001b[39msave(file, \u001b[38;5;28mformat\u001b[39m, \u001b[38;5;241m*\u001b[39m\u001b[38;5;241m*\u001b[39mkargs)\n",
      "File \u001b[0;32m~/Documents/onto/environment/lib/python3.8/site-packages/owlready2/namespace.py:1421\u001b[0m, in \u001b[0;36m_open_onto_file\u001b[0;34m(base_iri, name, mode, only_local)\u001b[0m\n\u001b[1;32m   1419\u001b[0m     \u001b[38;5;28;01mif\u001b[39;00m os\u001b[38;5;241m.\u001b[39mpath\u001b[38;5;241m.\u001b[39mexists(filename) \u001b[38;5;129;01mand\u001b[39;00m os\u001b[38;5;241m.\u001b[39mpath\u001b[38;5;241m.\u001b[39misfile(filename): \u001b[38;5;28;01mreturn\u001b[39;00m \u001b[38;5;28mopen\u001b[39m(filename, mode)\n\u001b[1;32m   1420\u001b[0m \u001b[38;5;28;01mif\u001b[39;00m (mode\u001b[38;5;241m.\u001b[39mstartswith(\u001b[38;5;124m\"\u001b[39m\u001b[38;5;124mr\u001b[39m\u001b[38;5;124m\"\u001b[39m)) \u001b[38;5;129;01mand\u001b[39;00m \u001b[38;5;129;01mnot\u001b[39;00m only_local: \u001b[38;5;28;01mreturn\u001b[39;00m urllib\u001b[38;5;241m.\u001b[39mrequest\u001b[38;5;241m.\u001b[39murlopen(base_iri)\n\u001b[0;32m-> 1421\u001b[0m \u001b[38;5;28;01mif\u001b[39;00m (mode\u001b[38;5;241m.\u001b[39mstartswith(\u001b[38;5;124m\"\u001b[39m\u001b[38;5;124mw\u001b[39m\u001b[38;5;124m\"\u001b[39m)): \u001b[38;5;28;01mreturn\u001b[39;00m \u001b[38;5;28mopen\u001b[39m(os\u001b[38;5;241m.\u001b[39mpath\u001b[38;5;241m.\u001b[39mjoin(\u001b[43monto_path\u001b[49m\u001b[43m[\u001b[49m\u001b[38;5;241;43m0\u001b[39;49m\u001b[43m]\u001b[49m, \u001b[38;5;124m\"\u001b[39m\u001b[38;5;132;01m%s\u001b[39;00m\u001b[38;5;124m.owl\u001b[39m\u001b[38;5;124m\"\u001b[39m \u001b[38;5;241m%\u001b[39m name), mode)\n\u001b[1;32m   1422\u001b[0m \u001b[38;5;28;01mraise\u001b[39;00m \u001b[38;5;167;01mFileNotFoundError\u001b[39;00m\n",
      "\u001b[0;31mIndexError\u001b[0m: list index out of range"
     ]
    }
   ],
   "source": [
    "onto.save()"
   ]
  },
  {
   "cell_type": "code",
   "execution_count": null,
   "id": "ed05683a",
   "metadata": {},
   "outputs": [],
   "source": []
  }
 ],
 "metadata": {
  "kernelspec": {
   "display_name": "Python 3 (ipykernel)",
   "language": "python",
   "name": "python3"
  },
  "language_info": {
   "codemirror_mode": {
    "name": "ipython",
    "version": 3
   },
   "file_extension": ".py",
   "mimetype": "text/x-python",
   "name": "python",
   "nbconvert_exporter": "python",
   "pygments_lexer": "ipython3",
   "version": "3.8.10"
  }
 },
 "nbformat": 4,
 "nbformat_minor": 5
}
