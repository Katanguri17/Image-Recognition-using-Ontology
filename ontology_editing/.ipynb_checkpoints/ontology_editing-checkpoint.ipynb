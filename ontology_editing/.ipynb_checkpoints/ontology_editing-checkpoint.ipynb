{
 "cells": [
  {
   "cell_type": "code",
   "execution_count": 1,
   "id": "fc8250a5",
   "metadata": {},
   "outputs": [
    {
     "name": "stderr",
     "output_type": "stream",
     "text": [
      "* Owlready2 * Warning: optimized Cython parser module 'owlready2_optimized' is not available, defaulting to slower Python implementation\n"
     ]
    }
   ],
   "source": [
    "from owlready2 import *\n",
    "import pandas as pd\n",
    "import os"
   ]
  },
  {
   "cell_type": "code",
   "execution_count": 2,
   "id": "ea18a22a",
   "metadata": {},
   "outputs": [],
   "source": [
    "onto = get_ontology(\"file:///home/rounak/Documents/onto/environment/Ontology-editing-and-Query-processing/ontology_editing/dance_image_ontology.owl\").load()"
   ]
  },
  {
   "cell_type": "code",
   "execution_count": 3,
   "id": "e99a7046",
   "metadata": {},
   "outputs": [
    {
     "name": "stdout",
     "output_type": "stream",
     "text": [
      "    Dancer Name  Age Gender\n",
      "0  Dancer0   d0   20      F\n",
      "1  Dancer1   d1   21      M\n",
      "2  Dancer2   d2   22      F\n",
      "3  Dancer3   d3   23      M\n",
      "4  Dancer4   d4   24      F\n",
      "5  Dancer5   d5   25      M\n",
      "6  Dancer6   d6   26      F\n",
      "7  Dancer7   d7   27      M\n",
      "8  Dancer8   d8   28      F\n",
      "9  Dancer9   d9   29      M\n"
     ]
    }
   ],
   "source": [
    "df=pd.read_csv('dancer_list.tsv',sep='\\t')\n",
    "print(df)"
   ]
  },
  {
   "cell_type": "code",
   "execution_count": 4,
   "id": "1474166b",
   "metadata": {},
   "outputs": [],
   "source": [
    "for i in df.index:\n",
    "    d=onto.Dancer(df['Dancer'][i],namespace=onto,hasDancerAge=int(df['Age'][i]),hasDancerGender=df['Gender'][i])\n",
    "    d.hasDancerName.append(df['Name'][i])"
   ]
  },
  {
   "cell_type": "code",
   "execution_count": 5,
   "id": "0385d95e",
   "metadata": {},
   "outputs": [
    {
     "name": "stdout",
     "output_type": "stream",
     "text": [
      "Dancer0 20\n",
      "Dancer1 21\n",
      "Dancer2 22\n",
      "Dancer3 23\n",
      "Dancer4 24\n",
      "Dancer5 25\n",
      "Dancer6 26\n",
      "Dancer7 27\n",
      "Dancer8 28\n",
      "Dancer9 29\n"
     ]
    }
   ],
   "source": [
    "for i in onto.Dancer.instances():\n",
    "    print(i.name+' '+str(i.hasDancerAge))"
   ]
  },
  {
   "cell_type": "code",
   "execution_count": 6,
   "id": "effb2a9b",
   "metadata": {},
   "outputs": [
    {
     "name": "stdout",
     "output_type": "stream",
     "text": [
      "dance_image_ontology.Costume0\n",
      "dance_image_ontology.Costume1\n",
      "dance_image_ontology.Costume2\n",
      "dance_image_ontology.Costume3\n",
      "dance_image_ontology.Costume4\n"
     ]
    }
   ],
   "source": [
    "df=pd.read_csv('costume_list.tsv',sep='\\t')\n",
    "\n",
    "for i in df.index:\n",
    "    costume=onto.Costume(df['Costume'][i])\n",
    "    \n",
    "for i in onto.Costume.instances():\n",
    "    print(i)"
   ]
  },
  {
   "cell_type": "code",
   "execution_count": 7,
   "id": "5c52a606",
   "metadata": {},
   "outputs": [],
   "source": [
    "hastamudra={\n",
    "\t'asamyukta': [\n",
    "\t\t'pataka',\n",
    "\t\t'tripataka',\n",
    "\t\t'ardhapatake',\n",
    "\t\t'kartari',\n",
    "\t\t'mayura',\n",
    "\t\t'ardhachandra',\n",
    "\t\t'arala',\n",
    "\t\t'shukatundaka',\n",
    "\t\t'mushti',\n",
    "\t\t'shikhara',\n",
    "\t\t'kapittha',\n",
    "\t\t'katakamukha',\n",
    "\t\t'suchi',\n",
    "\t\t'chandrakala',\n",
    "\t\t'padmakosha',\n",
    "\t\t'sharpashirastatha',\n",
    "\t\t'mrigashirsha',\n",
    "\t\t'singhamukha',\n",
    "\t\t'kangula',\n",
    "\t\t'alapadma',\n",
    "\t\t'chatura',\n",
    "\t\t'bhramara',\n",
    "\t\t'hamsohasso',\n",
    "\t\t'hamsapakshaka',\n",
    "\t\t'samdamsa',\n",
    "\t\t'mukula',\n",
    "\t\t'tamrachura',\n",
    "\t\t'trishula',\n",
    "\t],\n",
    "\t'samyukta':[\n",
    "\t\t'anjali',\n",
    "\t\t'kapota',\n",
    "\t\t'karkata',\n",
    "\t\t'swastika',\n",
    "\t\t'dolahasta',\n",
    "\t\t'pushpaputa',\n",
    "\t\t'utsang',\n",
    "\t\t'shivalinga',\n",
    "\t\t'katakavardhana',\n",
    "\t\t'kartariswastika',\n",
    "\t\t'sakata',\n",
    "\t\t'shankha',\n",
    "\t\t'chakra',\n",
    "\t\t'samputa',\n",
    "\t\t'pasha',\n",
    "\t\t'kilakau',\n",
    "\t\t'matsya',\n",
    "\t\t'kurma',\n",
    "\t\t'baraha',\n",
    "\t\t'garura',\n",
    "\t\t'nagabandha',\n",
    "\t\t'khatawa',\n",
    "\t\t'verunda',\n",
    "\t],\n",
    "}"
   ]
  },
  {
   "cell_type": "code",
   "execution_count": 8,
   "id": "e236fefb",
   "metadata": {},
   "outputs": [
    {
     "name": "stdout",
     "output_type": "stream",
     "text": [
      "dance_image_ontology.pataka_mudra\n",
      "dance_image_ontology.tripataka_mudra\n",
      "dance_image_ontology.ardhapatake_mudra\n",
      "dance_image_ontology.kartari_mudra\n",
      "dance_image_ontology.mayura_mudra\n",
      "dance_image_ontology.ardhachandra_mudra\n",
      "dance_image_ontology.arala_mudra\n",
      "dance_image_ontology.shukatundaka_mudra\n",
      "dance_image_ontology.mushti_mudra\n",
      "dance_image_ontology.shikhara_mudra\n",
      "dance_image_ontology.kapittha_mudra\n",
      "dance_image_ontology.katakamukha_mudra\n",
      "dance_image_ontology.suchi_mudra\n",
      "dance_image_ontology.chandrakala_mudra\n",
      "dance_image_ontology.padmakosha_mudra\n",
      "dance_image_ontology.sharpashirastatha_mudra\n",
      "dance_image_ontology.mrigashirsha_mudra\n",
      "dance_image_ontology.singhamukha_mudra\n",
      "dance_image_ontology.kangula_mudra\n",
      "dance_image_ontology.alapadma_mudra\n",
      "dance_image_ontology.chatura_mudra\n",
      "dance_image_ontology.bhramara_mudra\n",
      "dance_image_ontology.hamsohasso_mudra\n",
      "dance_image_ontology.hamsapakshaka_mudra\n",
      "dance_image_ontology.samdamsa_mudra\n",
      "dance_image_ontology.mukula_mudra\n",
      "dance_image_ontology.tamrachura_mudra\n",
      "dance_image_ontology.trishula_mudra\n"
     ]
    }
   ],
   "source": [
    "for item in hastamudra:\n",
    "    for mudra in hastamudra[item]:\n",
    "        if item=='asamyukta':\n",
    "            new_mudra=onto.AsamyuktaMudra(mudra+'_mudra')\n",
    "        elif item=='samyukta':\n",
    "            new_mudra=onto.SamyuktaMudra(mudra+'_mudra')\n",
    "            \n",
    "for i in onto.AsamyuktaMudra.instances():\n",
    "    print(i)"
   ]
  },
  {
   "cell_type": "code",
   "execution_count": 9,
   "id": "f02fc100",
   "metadata": {},
   "outputs": [],
   "source": [
    "onto.save(file = \"/home/rounak/Documents/onto/environment/Ontology-editing-and-Query-processing/ontology_editing/dance_dummy.owl\", format = \"rdfxml\")"
   ]
  },
  {
   "cell_type": "code",
   "execution_count": 2,
   "id": "9cdbf0f1",
   "metadata": {},
   "outputs": [],
   "source": [
    "onto = get_ontology(\"file:///home/rounak/Documents/onto/environment/Ontology-editing-and-Query-processing/ontology_editing/dance_dummy.owl\").load()"
   ]
  },
  {
   "cell_type": "code",
   "execution_count": 3,
   "id": "e7924fce",
   "metadata": {},
   "outputs": [
    {
     "name": "stdout",
     "output_type": "stream",
     "text": [
      "File path: /home/rounak/Documents/onto/environment/Ontology-editing-and-Query-processing/data/Hand1-20220127T142046Z-001/Hand1/H0.jpg\n"
     ]
    }
   ],
   "source": [
    "import os\n",
    "file_path=input('File path: ')\n",
    "l=file_path.split('/')\n",
    "file_fullname=l[len(l)-1]\n",
    "# print(file_fullname)\n",
    "l=file_fullname.split('.')\n",
    "file_name=l[0]\n",
    "file_exten=l[1]\n",
    "file_size=os.path.getsize(file_path)\n",
    "\n",
    "img=onto.Image('Image0',namespace=onto,hasFilePath=file_path,hasFileName=file_name,hasFileExtension=file_exten,hasFileSize=file_size)"
   ]
  },
  {
   "cell_type": "code",
   "execution_count": 5,
   "id": "38d6472f",
   "metadata": {},
   "outputs": [
    {
     "name": "stdout",
     "output_type": "stream",
     "text": [
      "H0 jpg 3176315 /home/rounak/Documents/onto/environment/Ontology-editing-and-Query-processing/data/Hand1-20220127T142046Z-001/Hand1/H0.jpg\n"
     ]
    }
   ],
   "source": [
    "for i in onto.Image.instances():\n",
    "    print(i.hasFileName+' '+i.hasFileExtension+' '+str(i.hasFileSize)+' '+i.hasFilePath)"
   ]
  },
  {
   "cell_type": "code",
   "execution_count": 12,
   "id": "b51ede75",
   "metadata": {},
   "outputs": [
    {
     "ename": "IndexError",
     "evalue": "list index out of range",
     "output_type": "error",
     "traceback": [
      "\u001b[0;31m---------------------------------------------------------------------------\u001b[0m",
      "\u001b[0;31mIndexError\u001b[0m                                Traceback (most recent call last)",
      "Input \u001b[0;32mIn [12]\u001b[0m, in \u001b[0;36m<cell line: 1>\u001b[0;34m()\u001b[0m\n\u001b[0;32m----> 1\u001b[0m \u001b[43monto\u001b[49m\u001b[38;5;241;43m.\u001b[39;49m\u001b[43msave\u001b[49m\u001b[43m(\u001b[49m\u001b[43m)\u001b[49m\n",
      "File \u001b[0;32m~/Documents/onto/environment/lib/python3.8/site-packages/owlready2/namespace.py:1142\u001b[0m, in \u001b[0;36mOntology.save\u001b[0;34m(self, file, format, **kargs)\u001b[0m\n\u001b[1;32m   1140\u001b[0m \u001b[38;5;28;01mdef\u001b[39;00m \u001b[38;5;21msave\u001b[39m(\u001b[38;5;28mself\u001b[39m, file \u001b[38;5;241m=\u001b[39m \u001b[38;5;28;01mNone\u001b[39;00m, \u001b[38;5;28mformat\u001b[39m \u001b[38;5;241m=\u001b[39m \u001b[38;5;124m\"\u001b[39m\u001b[38;5;124mrdfxml\u001b[39m\u001b[38;5;124m\"\u001b[39m, \u001b[38;5;241m*\u001b[39m\u001b[38;5;241m*\u001b[39mkargs):\n\u001b[1;32m   1141\u001b[0m   \u001b[38;5;28;01mif\u001b[39;00m   file \u001b[38;5;129;01mis\u001b[39;00m \u001b[38;5;28;01mNone\u001b[39;00m:\n\u001b[0;32m-> 1142\u001b[0m     file \u001b[38;5;241m=\u001b[39m \u001b[43m_open_onto_file\u001b[49m\u001b[43m(\u001b[49m\u001b[38;5;28;43mself\u001b[39;49m\u001b[38;5;241;43m.\u001b[39;49m\u001b[43m_base_iri\u001b[49m\u001b[43m,\u001b[49m\u001b[43m \u001b[49m\u001b[38;5;28;43mself\u001b[39;49m\u001b[38;5;241;43m.\u001b[39;49m\u001b[43mname\u001b[49m\u001b[43m,\u001b[49m\u001b[43m \u001b[49m\u001b[38;5;124;43m\"\u001b[39;49m\u001b[38;5;124;43mwb\u001b[39;49m\u001b[38;5;124;43m\"\u001b[39;49m\u001b[43m)\u001b[49m\n\u001b[1;32m   1143\u001b[0m     \u001b[38;5;28;01mif\u001b[39;00m _LOG_LEVEL: \u001b[38;5;28mprint\u001b[39m(\u001b[38;5;124m\"\u001b[39m\u001b[38;5;124m* Owlready2 * Saving ontology \u001b[39m\u001b[38;5;132;01m%s\u001b[39;00m\u001b[38;5;124m to \u001b[39m\u001b[38;5;132;01m%s\u001b[39;00m\u001b[38;5;124m...\u001b[39m\u001b[38;5;124m\"\u001b[39m \u001b[38;5;241m%\u001b[39m (\u001b[38;5;28mself\u001b[39m\u001b[38;5;241m.\u001b[39mname, \u001b[38;5;28mgetattr\u001b[39m(file, \u001b[38;5;124m\"\u001b[39m\u001b[38;5;124mname\u001b[39m\u001b[38;5;124m\"\u001b[39m, \u001b[38;5;124m\"\u001b[39m\u001b[38;5;124m???\u001b[39m\u001b[38;5;124m\"\u001b[39m)), file \u001b[38;5;241m=\u001b[39m sys\u001b[38;5;241m.\u001b[39mstderr)\n\u001b[1;32m   1144\u001b[0m     \u001b[38;5;28mself\u001b[39m\u001b[38;5;241m.\u001b[39mgraph\u001b[38;5;241m.\u001b[39msave(file, \u001b[38;5;28mformat\u001b[39m, \u001b[38;5;241m*\u001b[39m\u001b[38;5;241m*\u001b[39mkargs)\n",
      "File \u001b[0;32m~/Documents/onto/environment/lib/python3.8/site-packages/owlready2/namespace.py:1421\u001b[0m, in \u001b[0;36m_open_onto_file\u001b[0;34m(base_iri, name, mode, only_local)\u001b[0m\n\u001b[1;32m   1419\u001b[0m     \u001b[38;5;28;01mif\u001b[39;00m os\u001b[38;5;241m.\u001b[39mpath\u001b[38;5;241m.\u001b[39mexists(filename) \u001b[38;5;129;01mand\u001b[39;00m os\u001b[38;5;241m.\u001b[39mpath\u001b[38;5;241m.\u001b[39misfile(filename): \u001b[38;5;28;01mreturn\u001b[39;00m \u001b[38;5;28mopen\u001b[39m(filename, mode)\n\u001b[1;32m   1420\u001b[0m \u001b[38;5;28;01mif\u001b[39;00m (mode\u001b[38;5;241m.\u001b[39mstartswith(\u001b[38;5;124m\"\u001b[39m\u001b[38;5;124mr\u001b[39m\u001b[38;5;124m\"\u001b[39m)) \u001b[38;5;129;01mand\u001b[39;00m \u001b[38;5;129;01mnot\u001b[39;00m only_local: \u001b[38;5;28;01mreturn\u001b[39;00m urllib\u001b[38;5;241m.\u001b[39mrequest\u001b[38;5;241m.\u001b[39murlopen(base_iri)\n\u001b[0;32m-> 1421\u001b[0m \u001b[38;5;28;01mif\u001b[39;00m (mode\u001b[38;5;241m.\u001b[39mstartswith(\u001b[38;5;124m\"\u001b[39m\u001b[38;5;124mw\u001b[39m\u001b[38;5;124m\"\u001b[39m)): \u001b[38;5;28;01mreturn\u001b[39;00m \u001b[38;5;28mopen\u001b[39m(os\u001b[38;5;241m.\u001b[39mpath\u001b[38;5;241m.\u001b[39mjoin(\u001b[43monto_path\u001b[49m\u001b[43m[\u001b[49m\u001b[38;5;241;43m0\u001b[39;49m\u001b[43m]\u001b[49m, \u001b[38;5;124m\"\u001b[39m\u001b[38;5;132;01m%s\u001b[39;00m\u001b[38;5;124m.owl\u001b[39m\u001b[38;5;124m\"\u001b[39m \u001b[38;5;241m%\u001b[39m name), mode)\n\u001b[1;32m   1422\u001b[0m \u001b[38;5;28;01mraise\u001b[39;00m \u001b[38;5;167;01mFileNotFoundError\u001b[39;00m\n",
      "\u001b[0;31mIndexError\u001b[0m: list index out of range"
     ]
    }
   ],
   "source": [
    "onto.save()"
   ]
  },
  {
   "cell_type": "code",
   "execution_count": 11,
   "id": "ed05683a",
   "metadata": {},
   "outputs": [],
   "source": [
    "onto = get_ontology(\"file:///home/rounak/Documents/onto/environment/Ontology-editing-and-Query-processing/ontology_editing/dance_dummy.owl\").load()\n",
    "\n",
    "with onto:\n",
    "    \n",
    "    class Dancer(Thing):\n",
    "        \n",
    "        @classmethod\n",
    "        def print_instances(cls):\n",
    "            print('ID\\tName\\tAge\\tGender')\n",
    "            for dancer in Dancer.instances():\n",
    "                print(str(dancer.hasDancerId)+'\\t'+str(dancer.hasDancerName)+'\\t'+str(dancer.hasDancerAge)+'\\t'+dancer.hasDancerGender)\n",
    "        \n",
    "        def add_name(self,dancer_name):\n",
    "            self.hasDancerName.append(dancer_name)\n",
    "            \n",
    "        def update_age(self,dancer_age):\n",
    "            self.hasDancerAge=dancer_age\n",
    "            \n"
   ]
  },
  {
   "cell_type": "code",
   "execution_count": 12,
   "id": "b00feda5",
   "metadata": {},
   "outputs": [],
   "source": [
    "with onto:\n",
    "    \n",
    "    class Hastamudra(Thing):\n",
    "        \n",
    "        @classmethod\n",
    "        def print_asamyukta(cls):\n",
    "            print('ID\\tName')\n",
    "            for mudra in onto.AsamyuktaMudra.instances():\n",
    "                print(str(mudra.hasMudraId)+'\\t'+mudra.name)\n",
    "        \n",
    "        @classmethod\n",
    "        def print_samyukta(cls):\n",
    "            print('ID\\tName')\n",
    "            for mudra in onto.SamyuktaMudra.instances():\n",
    "                print(str(mudra.hasMudraId)+'\\t'+mudra.name)"
   ]
  },
  {
   "cell_type": "code",
   "execution_count": 13,
   "id": "d7a0d29e",
   "metadata": {},
   "outputs": [
    {
     "name": "stdout",
     "output_type": "stream",
     "text": [
      "ID\tName\tAge\tGender\n",
      "0\t['d0']\t20\tF\n",
      "1\t['d1']\t21\tM\n",
      "10\t['d10']\t30\tF\n",
      "2\t['d2']\t22\tF\n",
      "3\t['d3']\t23\tM\n",
      "4\t['Laxmi', 'd4']\t24\tF\n",
      "5\t['d5']\t25\tM\n",
      "6\t['d6']\t26\tF\n",
      "7\t['d7']\t27\tM\n",
      "8\t['d8']\t28\tF\n",
      "9\t['d9']\t29\tM\n"
     ]
    }
   ],
   "source": [
    "onto.Dancer.print_instances()"
   ]
  },
  {
   "cell_type": "code",
   "execution_count": 14,
   "id": "c847639e",
   "metadata": {},
   "outputs": [],
   "source": [
    "def add_dancer(onto_filepath):\n",
    "    onto = get_ontology(\"file://\"+onto_filepath).load()\n",
    "    existing_dancers=onto.Dancer.instances()\n",
    "    onto.Dancer.print_instances()\n",
    "    \n",
    "    if (input('Choose dancer from the list of existing dancers ? (Y/N)')).lower()=='y':\n",
    "        _id=int(input('\\t\\__ Select dancer by DancerId: '))\n",
    "        selected_dancer=onto.search_one(hasDancerId=_id)\n",
    "        if (input('\\t\\__ Add alternate name to the selected dancer ? (Y/N)')).lower()=='y':\n",
    "            selected_dancer.hasDancerName.append(input('\\t\\t\\__ Alternate name: '))\n",
    "        \n",
    "        onto.save(file = onto_filepath, format = \"rdfxml\")\n",
    "        \n",
    "        return selected_dancer\n",
    "            \n",
    "    else:\n",
    "        new_dancer=onto.Dancer('Dancer'+str(len(existing_dancers)),hasDancerId=len(existing_dancers))\n",
    "        new_dancer.hasDancerName.append(input('Dancer name: '))\n",
    "        new_dancer.hasDancerAge = int(input('Dancer age: '))\n",
    "        new_dancer.hasDancerGender = input('Dancer gender: ')\n",
    "        \n",
    "        onto.save(file = onto_filepath, format = \"rdfxml\")\n",
    "        \n",
    "        return new_dancer"
   ]
  },
  {
   "cell_type": "code",
   "execution_count": 6,
   "id": "48f2419f",
   "metadata": {},
   "outputs": [
    {
     "data": {
      "text/plain": [
       "['d1']"
      ]
     },
     "execution_count": 6,
     "metadata": {},
     "output_type": "execute_result"
    }
   ],
   "source": [
    "onto.search_one(hasDancerId=1).hasDancerName"
   ]
  },
  {
   "cell_type": "code",
   "execution_count": 7,
   "id": "19ffe16b",
   "metadata": {},
   "outputs": [
    {
     "ename": "NameError",
     "evalue": "name 'add_dancer_instance' is not defined",
     "output_type": "error",
     "traceback": [
      "\u001b[0;31m---------------------------------------------------------------------------\u001b[0m",
      "\u001b[0;31mNameError\u001b[0m                                 Traceback (most recent call last)",
      "Input \u001b[0;32mIn [7]\u001b[0m, in \u001b[0;36m<cell line: 1>\u001b[0;34m()\u001b[0m\n\u001b[0;32m----> 1\u001b[0m \u001b[43madd_dancer_instance\u001b[49m(\u001b[38;5;124m'\u001b[39m\u001b[38;5;124m/home/rounak/Documents/onto/environment/Ontology-editing-and-Query-processing/ontology_editing/dance_dummy.owl\u001b[39m\u001b[38;5;124m'\u001b[39m)\n",
      "\u001b[0;31mNameError\u001b[0m: name 'add_dancer_instance' is not defined"
     ]
    }
   ],
   "source": [
    "add_dancer_instance('/home/rounak/Documents/onto/environment/Ontology-editing-and-Query-processing/ontology_editing/dance_dummy.owl')"
   ]
  },
  {
   "cell_type": "code",
   "execution_count": 15,
   "id": "974f9248",
   "metadata": {},
   "outputs": [],
   "source": [
    "def add_image_instance(onto_filepath):\n",
    "    image_path=input('Enter image path: ')\n",
    "    l=image_path.split('/')\n",
    "    file_fullname=l[len(l)-1]\n",
    "    l=file_fullname.split('.')\n",
    "    file_name=l[0]\n",
    "    file_exten=l[1]\n",
    "    file_size=os.path.getsize(image_path)\n",
    "    m=len(onto.Image.instances())\n",
    "    img=onto.Image('Image'+str(m),namespace=onto,hasFilePath=image_path,hasFileName=file_name,hasFileExtension=file_exten,hasFileSize=file_size)\n",
    "    onto.save(file=onto_filepath,format=\"rdfxml\")\n",
    "    return img"
   ]
  },
  {
   "cell_type": "code",
   "execution_count": 16,
   "id": "04cad2b0",
   "metadata": {},
   "outputs": [],
   "source": [
    "def add_image_annotation(onto_filepath):\n",
    "    onto = get_ontology(\"file://\"+onto_filepath).load()\n",
    "    existing_images=len(onto.Content.instances())\n",
    "    new_content=onto.Content('Content'+str(existing_images))\n",
    "    print('## Add image ##')\n",
    "    new_content.hasImage=add_image_instance(onto_filepath)\n",
    "    print('## Choose/Add dancer ##')\n",
    "    new_content.hasDancer.append(add_dancer(onto_filepath))\n",
    "    print('## Choose hastamudra ##')\n",
    "    \n",
    "    _static=onto.Static(new_content.name+'_static')\n",
    "    \n",
    "    if (input(\"Press 'A' for Asamyukta mudra and 'S' for Samyukta mudra: \")).lower=='a':\n",
    "        print('List of Asamyukta mudra: ')\n",
    "        onto.Hastamudra.print_asamyukta()\n",
    "        _static.hasLeftHandMudra=onto.search_one(hasMudraId=int(input('\\__ Enter left hand hastamudra (ID from list): ')))\n",
    "        _static.hasRightHandMudra=onto.search_one(hasMudraId=int(input('\\__ Enter right hand hastamudra (ID from list): ')))\n",
    "        \n",
    "    else:\n",
    "        print('List of Samyukta mudra: ')\n",
    "        onto.Hastamudra.print_samyukta()\n",
    "        _static.hasSamyuktaMudra=onto.search_one(hasMudraId=int(input('\\__ Enter samyukta hastamudra (ID from list): ')))\n",
    "        \n",
    "    new_content.hasStatic=_static\n",
    "    onto.save(file=onto_filepath,format=\"rdfxml\")"
   ]
  },
  {
   "cell_type": "code",
   "execution_count": 17,
   "id": "3af2ab5e",
   "metadata": {},
   "outputs": [
    {
     "name": "stdout",
     "output_type": "stream",
     "text": [
      "## Add image ##\n",
      "Enter image path: /home/rounak/Documents/onto/environment/Ontology-editing-and-Query-processing/data/Hand1-20220127T142046Z-001/Hand1/H0.jpg\n",
      "## Choose/Add dancer ##\n",
      "ID\tName\tAge\tGender\n",
      "0\t['d0']\t20\tF\n",
      "1\t['d1']\t21\tM\n",
      "10\t['d10']\t30\tF\n",
      "2\t['d2']\t22\tF\n",
      "3\t['d3']\t23\tM\n",
      "4\t['Laxmi', 'd4']\t24\tF\n",
      "5\t['d5']\t25\tM\n",
      "6\t['d6']\t26\tF\n",
      "7\t['d7']\t27\tM\n",
      "8\t['d8']\t28\tF\n",
      "9\t['d9']\t29\tM\n",
      "Choose dancer from the list of existing dancers ? (Y/N)Y\n",
      "\t\\__ Select dancer by DancerId: 0\n",
      "\t\\__ Add alternate name to the selected dancer ? (Y/N)N\n",
      "## Choose hastamudra ##\n",
      "Press 'A' for Asamyukta mudra and 'S' for Samyukta mudra: S\n",
      "List of Samyukta mudra: \n",
      "ID\tName\n",
      "1\tanjali_mudra\n",
      "5\tbaraha_mudra\n",
      "7\tchakra_mudra\n",
      "10\tdolahasta_mudra\n",
      "11\tgarura_mudra\n",
      "16\tkapota_mudra\n",
      "17\tkarkata_mudra\n",
      "19\tkartariswastika_mudra\n",
      "21\tkatakavardhana_mudra\n",
      "22\tkhatawa_mudra\n",
      "23\tkilakau_mudra\n",
      "50\tkurma_mudra\n",
      "24\tmatsya_mudra\n",
      "29\tnagabandha_mudra\n",
      "31\tpasha_mudra\n",
      "33\tpushpaputa_mudra\n",
      "34\tsakata_mudra\n",
      "36\tsamputa_mudra\n",
      "37\tshankha_mudra\n",
      "40\tshivalinga_mudra\n",
      "44\tswastika_mudra\n",
      "48\tutsang_mudra\n",
      "49\tverunda_mudra\n",
      "\\__ Enter samyukta hastamudra (ID from list): 1\n"
     ]
    },
    {
     "ename": "ValueError",
     "evalue": "Property 'hasStatic' is not functional, cannot assign directly (use .append() or assign a list).",
     "output_type": "error",
     "traceback": [
      "\u001b[0;31m---------------------------------------------------------------------------\u001b[0m",
      "\u001b[0;31mValueError\u001b[0m                                Traceback (most recent call last)",
      "Input \u001b[0;32mIn [17]\u001b[0m, in \u001b[0;36m<cell line: 1>\u001b[0;34m()\u001b[0m\n\u001b[0;32m----> 1\u001b[0m \u001b[43madd_image_annotation\u001b[49m\u001b[43m(\u001b[49m\u001b[38;5;124;43m'\u001b[39;49m\u001b[38;5;124;43m/home/rounak/Documents/onto/environment/Ontology-editing-and-Query-processing/ontology_editing/dance_dummy.owl\u001b[39;49m\u001b[38;5;124;43m'\u001b[39;49m\u001b[43m)\u001b[49m\n",
      "Input \u001b[0;32mIn [16]\u001b[0m, in \u001b[0;36madd_image_annotation\u001b[0;34m(onto_filepath)\u001b[0m\n\u001b[1;32m     21\u001b[0m     onto\u001b[38;5;241m.\u001b[39mHastamudra\u001b[38;5;241m.\u001b[39mprint_samyukta()\n\u001b[1;32m     22\u001b[0m     _static\u001b[38;5;241m.\u001b[39mhasSamyuktaMudra\u001b[38;5;241m=\u001b[39monto\u001b[38;5;241m.\u001b[39msearch_one(hasMudraId\u001b[38;5;241m=\u001b[39m\u001b[38;5;28mint\u001b[39m(\u001b[38;5;28minput\u001b[39m(\u001b[38;5;124m'\u001b[39m\u001b[38;5;124m\\\u001b[39m\u001b[38;5;124m__ Enter samyukta hastamudra (ID from list): \u001b[39m\u001b[38;5;124m'\u001b[39m)))\n\u001b[0;32m---> 24\u001b[0m new_content\u001b[38;5;241m.\u001b[39mhasStatic\u001b[38;5;241m=\u001b[39m_static\n\u001b[1;32m     25\u001b[0m onto\u001b[38;5;241m.\u001b[39msave(file\u001b[38;5;241m=\u001b[39monto_filepath,\u001b[38;5;28mformat\u001b[39m\u001b[38;5;241m=\u001b[39m\u001b[38;5;124m\"\u001b[39m\u001b[38;5;124mrdfxml\u001b[39m\u001b[38;5;124m\"\u001b[39m)\n",
      "File \u001b[0;32m~/Documents/onto/environment/lib/python3.8/site-packages/owlready2/individual.py:295\u001b[0m, in \u001b[0;36mThing.__setattr__\u001b[0;34m(self, attr, value)\u001b[0m\n\u001b[1;32m    293\u001b[0m         \u001b[38;5;28;01melse\u001b[39;00m:             value \u001b[38;5;241m=\u001b[39m [value]\n\u001b[1;32m    294\u001b[0m       \u001b[38;5;28;01melse\u001b[39;00m:\n\u001b[0;32m--> 295\u001b[0m         \u001b[38;5;28;01mraise\u001b[39;00m \u001b[38;5;167;01mValueError\u001b[39;00m(\u001b[38;5;124m\"\u001b[39m\u001b[38;5;124mProperty \u001b[39m\u001b[38;5;124m'\u001b[39m\u001b[38;5;132;01m%s\u001b[39;00m\u001b[38;5;124m'\u001b[39m\u001b[38;5;124m is not functional, cannot assign directly (use .append() or assign a list).\u001b[39m\u001b[38;5;124m\"\u001b[39m \u001b[38;5;241m%\u001b[39m attr)\n\u001b[1;32m    296\u001b[0m     \u001b[38;5;28mgetattr\u001b[39m(\u001b[38;5;28mself\u001b[39m, attr)\u001b[38;5;241m.\u001b[39mreinit(value)\n\u001b[1;32m    298\u001b[0m \u001b[38;5;28;01melif\u001b[39;00m attr\u001b[38;5;241m.\u001b[39mstartswith(\u001b[38;5;124m\"\u001b[39m\u001b[38;5;124mINVERSE_\u001b[39m\u001b[38;5;124m\"\u001b[39m):\n",
      "\u001b[0;31mValueError\u001b[0m: Property 'hasStatic' is not functional, cannot assign directly (use .append() or assign a list)."
     ]
    }
   ],
   "source": [
    "add_image_annotation('/home/rounak/Documents/onto/environment/Ontology-editing-and-Query-processing/ontology_editing/dance_dummy.owl')"
   ]
  },
  {
   "cell_type": "code",
   "execution_count": 20,
   "id": "eb29f3a9",
   "metadata": {},
   "outputs": [
    {
     "data": {
      "text/plain": [
       "[dance_dummy.anjali_mudra,\n",
       " dance_dummy.baraha_mudra,\n",
       " dance_dummy.chakra_mudra,\n",
       " dance_dummy.dolahasta_mudra,\n",
       " dance_dummy.garura_mudra,\n",
       " dance_dummy.kapota_mudra,\n",
       " dance_dummy.karkata_mudra,\n",
       " dance_dummy.kartariswastika_mudra,\n",
       " dance_dummy.katakavardhana_mudra,\n",
       " dance_dummy.khatawa_mudra,\n",
       " dance_dummy.kilakau_mudra,\n",
       " dance_dummy.kurma_mudra,\n",
       " dance_dummy.matsya_mudra,\n",
       " dance_dummy.nagabandha_mudra,\n",
       " dance_dummy.pasha_mudra,\n",
       " dance_dummy.pushpaputa_mudra,\n",
       " dance_dummy.sakata_mudra,\n",
       " dance_dummy.samputa_mudra,\n",
       " dance_dummy.shankha_mudra,\n",
       " dance_dummy.shivalinga_mudra,\n",
       " dance_dummy.swastika_mudra,\n",
       " dance_dummy.utsang_mudra,\n",
       " dance_dummy.verunda_mudra]"
      ]
     },
     "execution_count": 20,
     "metadata": {},
     "output_type": "execute_result"
    }
   ],
   "source": [
    "onto.SamyuktaMudra.instances()"
   ]
  },
  {
   "cell_type": "code",
   "execution_count": null,
   "id": "1e81f8ad",
   "metadata": {},
   "outputs": [],
   "source": []
  }
 ],
 "metadata": {
  "kernelspec": {
   "display_name": "Python 3 (ipykernel)",
   "language": "python",
   "name": "python3"
  },
  "language_info": {
   "codemirror_mode": {
    "name": "ipython",
    "version": 3
   },
   "file_extension": ".py",
   "mimetype": "text/x-python",
   "name": "python",
   "nbconvert_exporter": "python",
   "pygments_lexer": "ipython3",
   "version": "3.8.10"
  }
 },
 "nbformat": 4,
 "nbformat_minor": 5
}
