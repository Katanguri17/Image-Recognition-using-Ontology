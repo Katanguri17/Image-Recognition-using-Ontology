{
 "cells": [
  {
   "cell_type": "code",
   "execution_count": 1,
   "id": "e2871fb7",
   "metadata": {},
   "outputs": [
    {
     "name": "stderr",
     "output_type": "stream",
     "text": [
      "* Owlready2 * Warning: optimized Cython parser module 'owlready2_optimized' is not available, defaulting to slower Python implementation\n"
     ]
    }
   ],
   "source": [
    "from owlready2 import *"
   ]
  },
  {
   "cell_type": "code",
   "execution_count": 3,
   "id": "e7d20dfc",
   "metadata": {},
   "outputs": [],
   "source": [
    "onto = get_ontology(\"file:///home/rounak/Documents/onto/environment/ontology_editing/pizza.owl\").load()"
   ]
  },
  {
   "cell_type": "code",
   "execution_count": 23,
   "id": "712971f7",
   "metadata": {},
   "outputs": [
    {
     "name": "stdout",
     "output_type": "stream",
     "text": [
      "27\n"
     ]
    }
   ],
   "source": [
    "print(onto.Dancer2.hasDancerAge)"
   ]
  },
  {
   "cell_type": "code",
   "execution_count": 14,
   "id": "32783b02",
   "metadata": {},
   "outputs": [
    {
     "name": "stdout",
     "output_type": "stream",
     "text": [
      "['A']\n"
     ]
    }
   ],
   "source": [
    "print(onto.Dancer1.hasDancerName)"
   ]
  },
  {
   "cell_type": "code",
   "execution_count": 15,
   "id": "8723dec7",
   "metadata": {},
   "outputs": [
    {
     "name": "stdout",
     "output_type": "stream",
     "text": [
      "dance_image_ontology.Costume\n"
     ]
    }
   ],
   "source": [
    "print(onto.Costume)"
   ]
  },
  {
   "cell_type": "code",
   "execution_count": 16,
   "id": "aa53fe05",
   "metadata": {},
   "outputs": [
    {
     "name": "stdout",
     "output_type": "stream",
     "text": [
      "None\n"
     ]
    }
   ],
   "source": [
    "print(onto.iri)"
   ]
  },
  {
   "cell_type": "code",
   "execution_count": 20,
   "id": "1feecad1",
   "metadata": {},
   "outputs": [],
   "source": [
    "dancer2 = onto.Dancer(\"Dancer2\", namespace = onto, hasDancerAge=27, hasDancerGender=\"M\")"
   ]
  },
  {
   "cell_type": "code",
   "execution_count": 21,
   "id": "d8d94458",
   "metadata": {},
   "outputs": [],
   "source": [
    "dancer2.hasDancerName.append('B')"
   ]
  },
  {
   "cell_type": "code",
   "execution_count": 26,
   "id": "2ca0b619",
   "metadata": {},
   "outputs": [
    {
     "name": "stdout",
     "output_type": "stream",
     "text": [
      "{dance_image_ontology.hasDancerGender, dance_image_ontology.hasDancerName, dance_image_ontology.hasDancerAge}\n"
     ]
    }
   ],
   "source": [
    "lst=dancer2.get_properties()\n",
    "print(lst)"
   ]
  },
  {
   "cell_type": "code",
   "execution_count": 27,
   "id": "0d3cf39a",
   "metadata": {},
   "outputs": [],
   "source": [
    "onto.save(file = \"/home/rounak/Documents/onto/environment/dance_dummy.owl\", format = \"rdfxml\")"
   ]
  },
  {
   "cell_type": "code",
   "execution_count": 9,
   "id": "b8517d38",
   "metadata": {},
   "outputs": [
    {
     "name": "stdout",
     "output_type": "stream",
     "text": [
      "rdf-schema.comment : ['A pizza ontology that describes various pizzas based on their toppings']\n"
     ]
    }
   ],
   "source": [
    "for annot_prop in onto.metadata:\n",
    "    print(annot_prop,\":\",annot_prop[onto.metadata])"
   ]
  },
  {
   "cell_type": "code",
   "execution_count": 5,
   "id": "171299b8",
   "metadata": {},
   "outputs": [
    {
     "name": "stdout",
     "output_type": "stream",
     "text": [
      "['A pizza ontology that describes various pizzas based on their toppings']\n"
     ]
    }
   ],
   "source": [
    "print(onto.metadata.comment)"
   ]
  },
  {
   "cell_type": "code",
   "execution_count": 6,
   "id": "777d6d09",
   "metadata": {},
   "outputs": [
    {
     "name": "stdout",
     "output_type": "stream",
     "text": [
      "<owlready2.namespace.Metadata object at 0x7f09b56b4d90>\n"
     ]
    }
   ],
   "source": [
    "print(onto.metadata)"
   ]
  },
  {
   "cell_type": "code",
   "execution_count": null,
   "id": "39b7852c",
   "metadata": {},
   "outputs": [],
   "source": []
  }
 ],
 "metadata": {
  "kernelspec": {
   "display_name": "Python 3 (ipykernel)",
   "language": "python",
   "name": "python3"
  },
  "language_info": {
   "codemirror_mode": {
    "name": "ipython",
    "version": 3
   },
   "file_extension": ".py",
   "mimetype": "text/x-python",
   "name": "python",
   "nbconvert_exporter": "python",
   "pygments_lexer": "ipython3",
   "version": "3.8.10"
  }
 },
 "nbformat": 4,
 "nbformat_minor": 5
}
