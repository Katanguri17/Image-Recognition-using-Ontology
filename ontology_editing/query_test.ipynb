{
 "cells": [
  {
   "cell_type": "code",
   "execution_count": 1,
   "id": "51002ddc",
   "metadata": {},
   "outputs": [
    {
     "name": "stderr",
     "output_type": "stream",
     "text": [
      "* Owlready2 * Warning: optimized Cython parser module 'owlready2_optimized' is not available, defaulting to slower Python implementation\n"
     ]
    }
   ],
   "source": [
    "from owlready2 import *\n",
    "import os"
   ]
  },
  {
   "cell_type": "code",
   "execution_count": 2,
   "id": "0b60e6bf",
   "metadata": {},
   "outputs": [],
   "source": [
    "onto_filepath='/home/rounak/Documents/onto/environment/Ontology-editing-and-Query-processing/ontology_editing/dance_dummy.owl'\n",
    "onto = get_ontology('file://'+onto_filepath).load()"
   ]
  },
  {
   "cell_type": "code",
   "execution_count": 3,
   "id": "0ce2855a",
   "metadata": {},
   "outputs": [],
   "source": [
    "query= \"\"\"\n",
    "PREFIX dio: <http://www.semanticweb.org/rounak/ontologies/2022/5/dance_image_ontology#>\n",
    "SELECT ?d (group_concat(DISTINCT ?n) as ?names) ?a ?g \n",
    "WHERE{\n",
    "\t?d a dio:Dancer ;\n",
    "\t\tdio:hasDancerName ?n ;\n",
    "\t\tdio:hasDancerAge ?a ;\n",
    "\t\tdio:hasDancerGender ?g .\n",
    "}\n",
    "GROUP BY ?d\n",
    "\"\"\"\n",
    "\n"
   ]
  },
  {
   "cell_type": "code",
   "execution_count": 4,
   "id": "0cc22227",
   "metadata": {},
   "outputs": [
    {
     "data": {
      "text/plain": [
       "[[dance_dummy.Dancer0, 'd0', 20, 'F'],\n",
       " [dance_dummy.Dancer1, 'Rahul,Vikas,d1', 21, 'M'],\n",
       " [dance_dummy.Dancer11, 'd11', 30, 'M'],\n",
       " [dance_dummy.Dancer10, 'd10', 30, 'F'],\n",
       " [dance_dummy.Dancer12, '', '', 'O'],\n",
       " [dance_dummy.Dancer13, '', '', 'O'],\n",
       " [dance_dummy.Dancer2, 'd2', 22, 'F'],\n",
       " [dance_dummy.Dancer3, 'd3,Rohit', 23, 'M'],\n",
       " [dance_dummy.Dancer4, 'Laxmi,d4', 24, 'F'],\n",
       " [dance_dummy.Dancer5, 'd5', 25, 'M'],\n",
       " [dance_dummy.Dancer6, 'd6', 26, 'F'],\n",
       " [dance_dummy.Dancer7, 'd7', 27, 'M'],\n",
       " [dance_dummy.Dancer8, 'd8', 28, 'F'],\n",
       " [dance_dummy.Dancer9, 'd9', 29, 'M']]"
      ]
     },
     "execution_count": 4,
     "metadata": {},
     "output_type": "execute_result"
    }
   ],
   "source": [
    "list(default_world.sparql(query))"
   ]
  },
  {
   "cell_type": "code",
   "execution_count": 5,
   "id": "eff0f56f",
   "metadata": {},
   "outputs": [],
   "source": [
    "requirements={\n",
    "    # dancer details\n",
    "    'dancer_name': 'rahul' ,\n",
    "    'dancer_id': None ,\n",
    "    'dancer_age': None , \n",
    "    'dancer_gender': None ,\n",
    "    \n",
    "    #dance_details\n",
    "    'dance_name': None ,\n",
    "    'sam_mudra': None ,\n",
    "    'l_mudra': 4 ,\n",
    "    'r_mudra': None\n",
    "}"
   ]
  },
  {
   "cell_type": "code",
   "execution_count": 6,
   "id": "0c94c3d2",
   "metadata": {},
   "outputs": [
    {
     "name": "stdout",
     "output_type": "stream",
     "text": [
      "{'dancer_name': 'rahul', 'dancer_id': None, 'dancer_age': None, 'dancer_gender': None, 'dance_name': None, 'sam_mudra': None, 'l_mudra': 4, 'r_mudra': None}\n"
     ]
    }
   ],
   "source": [
    "print(requirements)"
   ]
  },
  {
   "cell_type": "code",
   "execution_count": 14,
   "id": "5244ed9c",
   "metadata": {},
   "outputs": [],
   "source": [
    "def generate_query(requirements):\n",
    "    query=\"\"\"\n",
    "    PREFIX dio: <http://www.semanticweb.org/rounak/ontologies/2022/5/dance_image_ontology#>\n",
    "    SELECT ?image_path\n",
    "    WHERE{\n",
    "        ?content a dio:Content ;\n",
    "            dio:hasDancer ?dancer ;\n",
    "            dio:hasStatic ?static ;\n",
    "            dio:hasImage ?image .\n",
    "        ?dancer dio:hasDancerName ?dancer_name ;\n",
    "            dio:hasDancerAge ?dancer_age ;\n",
    "            dio:hasDancerId ?dancer_id ;\n",
    "            dio:hasDancerGender ?dancer_gender .\n",
    "        ?static dio:hasDanceName ?dance_name .\n",
    "    \"\"\"\n",
    "    \n",
    "    if requirements['dancer_name'] is not None:\n",
    "        query=query+\"\\tFILTER regex(?dancer_name,'\"+requirements['dancer_name']+\"','i')\\n\"\n",
    "    if requirements['dancer_age'] is not None:\n",
    "        query=query+\"\\tFILTER (?dancer_age = \"+str(requirements['dancer_age'])+\")\\n\"\n",
    "    if requirements['dancer_gender'] is not None:\n",
    "        query+query+\"\\tFILTER (?dancer_gender = \"+str(requirements['dancer_gender'])+\")\\n\"\n",
    "    \n",
    "    if requirements['dance_name'] is not None:\n",
    "        query=query+\"\\tFILTER regex(?dance_name,'\"+requirements['dance_name']+\"','i')\\n\"\n",
    "    if requirements['sam_mudra'] is not None:\n",
    "        query=query+\"\\t?static dio:hasSamyuktaMudra/dio:hasMudraId ?sam_mudra . \\n\"\n",
    "        query=query+\"\\tFILTER (?sam_mudra = \"+str(requirements['sam_mudra'])+\")\\n\"\n",
    "    if requirements['l_mudra'] is not None:\n",
    "        query=query+\"\\t?static dio:hasLeftHandMudra/dio:hasMudraId ?l_mudra . \\n\"\n",
    "        query=query+\"\\tFILTER (?l_mudra = \"+str(requirements['l_mudra'])+\")\\n\"\n",
    "    if requirements['r_mudra'] is not None:\n",
    "        query=query+\"\\t?static dio:hasRightHandMudra/dio:hasMudraId ?r_mudra . \\n\"\n",
    "        query=query+\"\\tFILTER (?r_mudra = \"+str(requirements['r_mudra'])+\")\\n\"\n",
    "    \n",
    "    query=query+'?image dio:hasFilePath ?image_path\\n}\\n'\n",
    "    return query"
   ]
  },
  {
   "cell_type": "code",
   "execution_count": 15,
   "id": "01faf6f9",
   "metadata": {},
   "outputs": [
    {
     "name": "stdout",
     "output_type": "stream",
     "text": [
      "\n",
      "    PREFIX dio: <http://www.semanticweb.org/rounak/ontologies/2022/5/dance_image_ontology#>\n",
      "    SELECT ?image_path\n",
      "    WHERE{\n",
      "        ?content a dio:Content ;\n",
      "            dio:hasDancer ?dancer ;\n",
      "            dio:hasStatic ?static ;\n",
      "            dio:hasImage ?image .\n",
      "        ?dancer dio:hasDancerName ?dancer_name ;\n",
      "            dio:hasDancerAge ?dancer_age ;\n",
      "            dio:hasDancerId ?dancer_id ;\n",
      "            dio:hasDancerGender ?dancer_gender .\n",
      "        ?static dio:hasDanceName ?dance_name .\n",
      "    \tFILTER regex(?dancer_name,'rahul','i')\n",
      "\t?static dio:hasLeftHandMudra/dio:hasMudraId ?l_mudra . \n",
      "\tFILTER (?l_mudra = 4)\n",
      "?image dio:hasFilePath ?image_path\n",
      "}\n",
      "\n"
     ]
    }
   ],
   "source": [
    "q2=generate_query(requirements)\n",
    "print(q2)"
   ]
  },
  {
   "cell_type": "code",
   "execution_count": 16,
   "id": "030c911a",
   "metadata": {},
   "outputs": [
    {
     "data": {
      "text/plain": [
       "[['/home/rounak/Documents/onto/environment/Ontology-editing-and-Query-processing/data/Hand-20220127T140026Z-001/Hand/H100.jpg'],\n",
       " ['/home/rounak/Documents/onto/environment/Ontology-editing-and-Query-processing/data/Hand-20220127T140026Z-001/Hand/H98.jpg'],\n",
       " ['/home/rounak/Documents/onto/environment/Ontology-editing-and-Query-processing/data/Hand-20220127T140026Z-001/Hand/H97.jpg']]"
      ]
     },
     "execution_count": 16,
     "metadata": {},
     "output_type": "execute_result"
    }
   ],
   "source": [
    "list(default_world.sparql(q2))"
   ]
  },
  {
   "cell_type": "code",
   "execution_count": null,
   "id": "4c21c833",
   "metadata": {},
   "outputs": [],
   "source": []
  }
 ],
 "metadata": {
  "kernelspec": {
   "display_name": "Python 3.10.4 64-bit",
   "language": "python",
   "name": "python3"
  },
  "language_info": {
   "codemirror_mode": {
    "name": "ipython",
    "version": 3
   },
   "file_extension": ".py",
   "mimetype": "text/x-python",
   "name": "python",
   "nbconvert_exporter": "python",
   "pygments_lexer": "ipython3",
   "version": "3.10.4"
  },
  "vscode": {
   "interpreter": {
    "hash": "916dbcbb3f70747c44a77c7bcd40155683ae19c65e1c03b4aa3499c5328201f1"
   }
  }
 },
 "nbformat": 4,
 "nbformat_minor": 5
}
